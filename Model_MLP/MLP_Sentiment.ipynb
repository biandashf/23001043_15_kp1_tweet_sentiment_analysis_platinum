{
  "cells": [
    {
      "cell_type": "markdown",
      "metadata": {
        "id": "RaYuHmUBr4xS"
      },
      "source": [
        "## **Sentiment Analysis Using MLP Classifier**"
      ]
    },
    {
      "cell_type": "markdown",
      "metadata": {
        "id": "EQXdf116r4ng"
      },
      "source": [
        "## **Load Libraries and Dataset**"
      ]
    },
    {
      "cell_type": "code",
      "execution_count": 1,
      "metadata": {
        "id": "pijvLjIurfwF"
      },
      "outputs": [
        {
          "name": "stdout",
          "output_type": "stream",
          "text": [
            "Requirement already satisfied: Sastrawi in /Users/bianda/anaconda3/lib/python3.11/site-packages (1.0.1)\n",
            "Note: you may need to restart the kernel to use updated packages.\n"
          ]
        }
      ],
      "source": [
        "pip install Sastrawi"
      ]
    },
    {
      "cell_type": "code",
      "execution_count": 2,
      "metadata": {
        "id": "NdwCKftgn6xg"
      },
      "outputs": [],
      "source": [
        "## MLP Classifier\n",
        "\n",
        "import pandas as pd\n",
        "import numpy as np\n",
        "import nltk\n",
        "import regex as re\n",
        "import pickle\n",
        "from nltk.corpus import stopwords as stopword\n",
        "from nltk.tokenize import word_tokenize\n",
        "from Sastrawi.Stemmer.StemmerFactory import StemmerFactory\n",
        "from sklearn.feature_extraction.text import TfidfVectorizer\n",
        "from sklearn.model_selection import train_test_split"
      ]
    },
    {
      "cell_type": "code",
      "execution_count": 3,
      "metadata": {
        "colab": {
          "base_uri": "https://localhost:8080/"
        },
        "id": "OhfuP_Txqg_u",
        "outputId": "8a35cabc-a39e-4a95-e396-40c6dbc642a6"
      },
      "outputs": [
        {
          "name": "stderr",
          "output_type": "stream",
          "text": [
            "[nltk_data] Downloading package punkt to /Users/bianda/nltk_data...\n",
            "[nltk_data]   Package punkt is already up-to-date!\n",
            "[nltk_data] Downloading package stopwords to\n",
            "[nltk_data]     /Users/bianda/nltk_data...\n",
            "[nltk_data]   Package stopwords is already up-to-date!\n"
          ]
        },
        {
          "data": {
            "text/plain": [
              "True"
            ]
          },
          "execution_count": 3,
          "metadata": {},
          "output_type": "execute_result"
        }
      ],
      "source": [
        "nltk.download('punkt')\n",
        "nltk.download('stopwords')"
      ]
    },
    {
      "cell_type": "code",
      "execution_count": 5,
      "metadata": {
        "colab": {
          "base_uri": "https://localhost:8080/",
          "height": 423
        },
        "id": "OlVzeMWuoxaM",
        "outputId": "7b646fe8-bd4c-4d87-fb11-d5656f966697"
      },
      "outputs": [
        {
          "data": {
            "text/html": [
              "<div>\n",
              "<style scoped>\n",
              "    .dataframe tbody tr th:only-of-type {\n",
              "        vertical-align: middle;\n",
              "    }\n",
              "\n",
              "    .dataframe tbody tr th {\n",
              "        vertical-align: top;\n",
              "    }\n",
              "\n",
              "    .dataframe thead th {\n",
              "        text-align: right;\n",
              "    }\n",
              "</style>\n",
              "<table border=\"1\" class=\"dataframe\">\n",
              "  <thead>\n",
              "    <tr style=\"text-align: right;\">\n",
              "      <th></th>\n",
              "      <th>Text</th>\n",
              "      <th>Sentiment</th>\n",
              "    </tr>\n",
              "  </thead>\n",
              "  <tbody>\n",
              "    <tr>\n",
              "      <th>0</th>\n",
              "      <td>warung ini dimiliki oleh pengusaha pabrik tahu...</td>\n",
              "      <td>positive</td>\n",
              "    </tr>\n",
              "    <tr>\n",
              "      <th>1</th>\n",
              "      <td>mohon ulama lurus dan k212 mmbri hujjah partai...</td>\n",
              "      <td>neutral</td>\n",
              "    </tr>\n",
              "    <tr>\n",
              "      <th>2</th>\n",
              "      <td>lokasi strategis di jalan sumatera bandung . t...</td>\n",
              "      <td>positive</td>\n",
              "    </tr>\n",
              "    <tr>\n",
              "      <th>3</th>\n",
              "      <td>betapa bahagia nya diri ini saat unboxing pake...</td>\n",
              "      <td>positive</td>\n",
              "    </tr>\n",
              "    <tr>\n",
              "      <th>4</th>\n",
              "      <td>duh . jadi mahasiswa jangan sombong dong . kas...</td>\n",
              "      <td>negative</td>\n",
              "    </tr>\n",
              "    <tr>\n",
              "      <th>...</th>\n",
              "      <td>...</td>\n",
              "      <td>...</td>\n",
              "    </tr>\n",
              "    <tr>\n",
              "      <th>10993</th>\n",
              "      <td>f - demokrat dorong upaya kemandirian energi n...</td>\n",
              "      <td>neutral</td>\n",
              "    </tr>\n",
              "    <tr>\n",
              "      <th>10994</th>\n",
              "      <td>tidak bosan</td>\n",
              "      <td>positive</td>\n",
              "    </tr>\n",
              "    <tr>\n",
              "      <th>10996</th>\n",
              "      <td>enak rasa masakan nya apalagi kepiting yang me...</td>\n",
              "      <td>positive</td>\n",
              "    </tr>\n",
              "    <tr>\n",
              "      <th>10998</th>\n",
              "      <td>pagi pagi di tol pasteur sudah macet parah , b...</td>\n",
              "      <td>negative</td>\n",
              "    </tr>\n",
              "    <tr>\n",
              "      <th>10999</th>\n",
              "      <td>meskipun sering belanja ke yogya di riau junct...</td>\n",
              "      <td>positive</td>\n",
              "    </tr>\n",
              "  </tbody>\n",
              "</table>\n",
              "<p>10933 rows × 2 columns</p>\n",
              "</div>"
            ],
            "text/plain": [
              "                                                    Text Sentiment\n",
              "0      warung ini dimiliki oleh pengusaha pabrik tahu...  positive\n",
              "1      mohon ulama lurus dan k212 mmbri hujjah partai...   neutral\n",
              "2      lokasi strategis di jalan sumatera bandung . t...  positive\n",
              "3      betapa bahagia nya diri ini saat unboxing pake...  positive\n",
              "4      duh . jadi mahasiswa jangan sombong dong . kas...  negative\n",
              "...                                                  ...       ...\n",
              "10993  f - demokrat dorong upaya kemandirian energi n...   neutral\n",
              "10994                                        tidak bosan  positive\n",
              "10996  enak rasa masakan nya apalagi kepiting yang me...  positive\n",
              "10998  pagi pagi di tol pasteur sudah macet parah , b...  negative\n",
              "10999  meskipun sering belanja ke yogya di riau junct...  positive\n",
              "\n",
              "[10933 rows x 2 columns]"
            ]
          },
          "execution_count": 5,
          "metadata": {},
          "output_type": "execute_result"
        }
      ],
      "source": [
        "data_df = pd.read_csv('train_preprocess.tsv.txt', names = ['Text','Sentiment'], sep = '\\t')\n",
        "data_df.drop_duplicates()"
      ]
    },
    {
      "cell_type": "code",
      "execution_count": 6,
      "metadata": {
        "colab": {
          "base_uri": "https://localhost:8080/",
          "height": 206
        },
        "id": "NBlv65lQKtPC",
        "outputId": "d8dfc7b3-a69a-4bc1-bfa8-1733e609e015"
      },
      "outputs": [
        {
          "data": {
            "text/html": [
              "<div>\n",
              "<style scoped>\n",
              "    .dataframe tbody tr th:only-of-type {\n",
              "        vertical-align: middle;\n",
              "    }\n",
              "\n",
              "    .dataframe tbody tr th {\n",
              "        vertical-align: top;\n",
              "    }\n",
              "\n",
              "    .dataframe thead th {\n",
              "        text-align: right;\n",
              "    }\n",
              "</style>\n",
              "<table border=\"1\" class=\"dataframe\">\n",
              "  <thead>\n",
              "    <tr style=\"text-align: right;\">\n",
              "      <th></th>\n",
              "      <th>Text</th>\n",
              "      <th>Sentiment</th>\n",
              "    </tr>\n",
              "  </thead>\n",
              "  <tbody>\n",
              "    <tr>\n",
              "      <th>0</th>\n",
              "      <td>warung ini dimiliki oleh pengusaha pabrik tahu...</td>\n",
              "      <td>positive</td>\n",
              "    </tr>\n",
              "    <tr>\n",
              "      <th>1</th>\n",
              "      <td>mohon ulama lurus dan k212 mmbri hujjah partai...</td>\n",
              "      <td>neutral</td>\n",
              "    </tr>\n",
              "    <tr>\n",
              "      <th>2</th>\n",
              "      <td>lokasi strategis di jalan sumatera bandung . t...</td>\n",
              "      <td>positive</td>\n",
              "    </tr>\n",
              "    <tr>\n",
              "      <th>3</th>\n",
              "      <td>betapa bahagia nya diri ini saat unboxing pake...</td>\n",
              "      <td>positive</td>\n",
              "    </tr>\n",
              "    <tr>\n",
              "      <th>4</th>\n",
              "      <td>duh . jadi mahasiswa jangan sombong dong . kas...</td>\n",
              "      <td>negative</td>\n",
              "    </tr>\n",
              "  </tbody>\n",
              "</table>\n",
              "</div>"
            ],
            "text/plain": [
              "                                                Text Sentiment\n",
              "0  warung ini dimiliki oleh pengusaha pabrik tahu...  positive\n",
              "1  mohon ulama lurus dan k212 mmbri hujjah partai...   neutral\n",
              "2  lokasi strategis di jalan sumatera bandung . t...  positive\n",
              "3  betapa bahagia nya diri ini saat unboxing pake...  positive\n",
              "4  duh . jadi mahasiswa jangan sombong dong . kas...  negative"
            ]
          },
          "execution_count": 6,
          "metadata": {},
          "output_type": "execute_result"
        }
      ],
      "source": [
        "data_df.head()"
      ]
    },
    {
      "cell_type": "code",
      "execution_count": 7,
      "metadata": {
        "colab": {
          "base_uri": "https://localhost:8080/",
          "height": 206
        },
        "id": "-fmK4Cgao1U6",
        "outputId": "15fd7ad3-aa4e-4a0f-8588-eff46dc892f7"
      },
      "outputs": [
        {
          "data": {
            "text/html": [
              "<div>\n",
              "<style scoped>\n",
              "    .dataframe tbody tr th:only-of-type {\n",
              "        vertical-align: middle;\n",
              "    }\n",
              "\n",
              "    .dataframe tbody tr th {\n",
              "        vertical-align: top;\n",
              "    }\n",
              "\n",
              "    .dataframe thead th {\n",
              "        text-align: right;\n",
              "    }\n",
              "</style>\n",
              "<table border=\"1\" class=\"dataframe\">\n",
              "  <thead>\n",
              "    <tr style=\"text-align: right;\">\n",
              "      <th></th>\n",
              "      <th>negative</th>\n",
              "      <th>neutral</th>\n",
              "      <th>positive</th>\n",
              "    </tr>\n",
              "  </thead>\n",
              "  <tbody>\n",
              "    <tr>\n",
              "      <th>0</th>\n",
              "      <td>False</td>\n",
              "      <td>False</td>\n",
              "      <td>True</td>\n",
              "    </tr>\n",
              "    <tr>\n",
              "      <th>1</th>\n",
              "      <td>False</td>\n",
              "      <td>True</td>\n",
              "      <td>False</td>\n",
              "    </tr>\n",
              "    <tr>\n",
              "      <th>2</th>\n",
              "      <td>False</td>\n",
              "      <td>False</td>\n",
              "      <td>True</td>\n",
              "    </tr>\n",
              "    <tr>\n",
              "      <th>3</th>\n",
              "      <td>False</td>\n",
              "      <td>False</td>\n",
              "      <td>True</td>\n",
              "    </tr>\n",
              "    <tr>\n",
              "      <th>4</th>\n",
              "      <td>True</td>\n",
              "      <td>False</td>\n",
              "      <td>False</td>\n",
              "    </tr>\n",
              "  </tbody>\n",
              "</table>\n",
              "</div>"
            ],
            "text/plain": [
              "   negative  neutral  positive\n",
              "0     False    False      True\n",
              "1     False     True     False\n",
              "2     False    False      True\n",
              "3     False    False      True\n",
              "4      True    False     False"
            ]
          },
          "execution_count": 7,
          "metadata": {},
          "output_type": "execute_result"
        }
      ],
      "source": [
        "## One Hot Encoding\n",
        "category = pd.get_dummies(data_df['Sentiment'])\n",
        "category.head()"
      ]
    },
    {
      "cell_type": "code",
      "execution_count": 8,
      "metadata": {
        "colab": {
          "base_uri": "https://localhost:8080/",
          "height": 206
        },
        "id": "EycP0jAmo5ec",
        "outputId": "3df7e0d1-dda6-4ba3-810a-9ac281ad9a91"
      },
      "outputs": [
        {
          "data": {
            "text/html": [
              "<div>\n",
              "<style scoped>\n",
              "    .dataframe tbody tr th:only-of-type {\n",
              "        vertical-align: middle;\n",
              "    }\n",
              "\n",
              "    .dataframe tbody tr th {\n",
              "        vertical-align: top;\n",
              "    }\n",
              "\n",
              "    .dataframe thead th {\n",
              "        text-align: right;\n",
              "    }\n",
              "</style>\n",
              "<table border=\"1\" class=\"dataframe\">\n",
              "  <thead>\n",
              "    <tr style=\"text-align: right;\">\n",
              "      <th></th>\n",
              "      <th>Text</th>\n",
              "      <th>negative</th>\n",
              "      <th>neutral</th>\n",
              "      <th>positive</th>\n",
              "    </tr>\n",
              "  </thead>\n",
              "  <tbody>\n",
              "    <tr>\n",
              "      <th>0</th>\n",
              "      <td>warung ini dimiliki oleh pengusaha pabrik tahu...</td>\n",
              "      <td>False</td>\n",
              "      <td>False</td>\n",
              "      <td>True</td>\n",
              "    </tr>\n",
              "    <tr>\n",
              "      <th>1</th>\n",
              "      <td>mohon ulama lurus dan k212 mmbri hujjah partai...</td>\n",
              "      <td>False</td>\n",
              "      <td>True</td>\n",
              "      <td>False</td>\n",
              "    </tr>\n",
              "    <tr>\n",
              "      <th>2</th>\n",
              "      <td>lokasi strategis di jalan sumatera bandung . t...</td>\n",
              "      <td>False</td>\n",
              "      <td>False</td>\n",
              "      <td>True</td>\n",
              "    </tr>\n",
              "    <tr>\n",
              "      <th>3</th>\n",
              "      <td>betapa bahagia nya diri ini saat unboxing pake...</td>\n",
              "      <td>False</td>\n",
              "      <td>False</td>\n",
              "      <td>True</td>\n",
              "    </tr>\n",
              "    <tr>\n",
              "      <th>4</th>\n",
              "      <td>duh . jadi mahasiswa jangan sombong dong . kas...</td>\n",
              "      <td>True</td>\n",
              "      <td>False</td>\n",
              "      <td>False</td>\n",
              "    </tr>\n",
              "  </tbody>\n",
              "</table>\n",
              "</div>"
            ],
            "text/plain": [
              "                                                Text  negative  neutral  \\\n",
              "0  warung ini dimiliki oleh pengusaha pabrik tahu...     False    False   \n",
              "1  mohon ulama lurus dan k212 mmbri hujjah partai...     False     True   \n",
              "2  lokasi strategis di jalan sumatera bandung . t...     False    False   \n",
              "3  betapa bahagia nya diri ini saat unboxing pake...     False    False   \n",
              "4  duh . jadi mahasiswa jangan sombong dong . kas...      True    False   \n",
              "\n",
              "   positive  \n",
              "0      True  \n",
              "1     False  \n",
              "2      True  \n",
              "3      True  \n",
              "4     False  "
            ]
          },
          "execution_count": 8,
          "metadata": {},
          "output_type": "execute_result"
        }
      ],
      "source": [
        "## Concat and remove column sentiment\n",
        "\n",
        "train_df = pd.concat([data_df,category], axis  =1)\n",
        "train_df = train_df.drop(columns = 'Sentiment')\n",
        "train_df.head()"
      ]
    },
    {
      "cell_type": "markdown",
      "metadata": {
        "id": "e0yK4HnwsN-E"
      },
      "source": [
        "## **Text Cleansing**"
      ]
    },
    {
      "cell_type": "code",
      "execution_count": 10,
      "metadata": {
        "id": "J0etBS1Xo-SA"
      },
      "outputs": [],
      "source": [
        "## Dict for Kata Alay\n",
        "kamusalay_df = pd.read_csv('new_kamusalay.csv', names = ['ALAY', 'TIDAK_ALAY'], encoding = 'latin1')\n",
        "dict_alay = {\n",
        "    'ALAY':[],\n",
        "    'TIDAK_ALAY':[]\n",
        "}\n",
        "for i in kamusalay_df.itertuples():\n",
        "  dict_alay['ALAY'].append(i.ALAY)\n",
        "  dict_alay['TIDAK_ALAY'].append(i.TIDAK_ALAY)"
      ]
    },
    {
      "cell_type": "code",
      "execution_count": 11,
      "metadata": {
        "id": "nU1BF9a-pBl8"
      },
      "outputs": [],
      "source": [
        "## REGEX FUNCTION Cleansing\n",
        "\n",
        "# 1. remove USER,RT,URL\n",
        "def remove_user_rt_url (str):\n",
        "    string = re.sub(r'USER|\\bRT\\b|URL',' ',str)\n",
        "    return string\n",
        "\n",
        "#2 buat lower case\n",
        "def lower_case (str):\n",
        "    string = str.lower()\n",
        "    return string\n",
        "\n",
        "#3 remove /n\n",
        "def remove_n (str):\n",
        "    string =  re.sub(r'\\\\n',' ',str)\n",
        "    return string\n",
        "\n",
        "#4 remove emoji\n",
        "def remove_emo2 (str):\n",
        "    pattern = re.compile(r'[\\\\x]+[a-z0-9]{2}')\n",
        "    string = re.sub(pattern,'',str)\n",
        "    return string\n",
        "\n",
        "#5 Remove Link\n",
        "# remove link (http|https)\n",
        "def remove_link (str):\n",
        "    pattern = re.compile(r'www\\S+|http\\S+')\n",
        "    string =  re.sub(pattern,' ',str)\n",
        "    return string\n",
        "\n",
        "#6 Remove Special Character\n",
        "def remove_character(str):\n",
        "    string = re.sub(r'[^a-zA-Z]+',' ',str)\n",
        "    return string\n",
        "\n",
        "#8 repalce alay words\n",
        "def replace_alay(str):\n",
        "    for i in range(0,len(kamusalay_df)-1):\n",
        "        alay = dict_alay['ALAY'][i]\n",
        "        if (' ' + alay + ' ') in (' ' + str + ' '):\n",
        "            replace = dict_alay['TIDAK_ALAY'][i]\n",
        "            str = re.sub(r'\\b{}\\b'.format(alay),replace,str)\n",
        "    return str\n",
        "\n",
        "#9 remove extra space\n",
        "def remove_extra_space (str):\n",
        "    str = re.sub('  +', ' ', str)\n",
        "    str = str.strip()\n",
        "    return str\n",
        "\n",
        "def regex_cleansing(str):\n",
        "    str = remove_user_rt_url (str)\n",
        "    str = lower_case (str)\n",
        "    str = remove_n (str)\n",
        "    str = remove_emo2 (str)\n",
        "    str = remove_link (str)\n",
        "    str = remove_character(str)\n",
        "    str = remove_extra_space (str)\n",
        "    str = replace_alay(str)\n",
        "    str = remove_extra_space (str)\n",
        "    return str"
      ]
    },
    {
      "cell_type": "code",
      "execution_count": 12,
      "metadata": {
        "id": "qtM4xLQ1pEwb"
      },
      "outputs": [],
      "source": [
        "train_df['Text_Cleansing'] = train_df['Text'].apply(regex_cleansing)\n",
        "train_df = train_df[['Text','Text_Cleansing','negative','neutral','positive']]"
      ]
    },
    {
      "cell_type": "code",
      "execution_count": 13,
      "metadata": {
        "colab": {
          "base_uri": "https://localhost:8080/",
          "height": 206
        },
        "id": "wwRdVQ5FOlc7",
        "outputId": "b55ccd78-a165-4483-a7d7-92340bde508c"
      },
      "outputs": [
        {
          "data": {
            "text/html": [
              "<div>\n",
              "<style scoped>\n",
              "    .dataframe tbody tr th:only-of-type {\n",
              "        vertical-align: middle;\n",
              "    }\n",
              "\n",
              "    .dataframe tbody tr th {\n",
              "        vertical-align: top;\n",
              "    }\n",
              "\n",
              "    .dataframe thead th {\n",
              "        text-align: right;\n",
              "    }\n",
              "</style>\n",
              "<table border=\"1\" class=\"dataframe\">\n",
              "  <thead>\n",
              "    <tr style=\"text-align: right;\">\n",
              "      <th></th>\n",
              "      <th>Text</th>\n",
              "      <th>Text_Cleansing</th>\n",
              "      <th>negative</th>\n",
              "      <th>neutral</th>\n",
              "      <th>positive</th>\n",
              "    </tr>\n",
              "  </thead>\n",
              "  <tbody>\n",
              "    <tr>\n",
              "      <th>0</th>\n",
              "      <td>warung ini dimiliki oleh pengusaha pabrik tahu...</td>\n",
              "      <td>warung ini dimiliki oleh pengusaha pabrik tahu...</td>\n",
              "      <td>False</td>\n",
              "      <td>False</td>\n",
              "      <td>True</td>\n",
              "    </tr>\n",
              "    <tr>\n",
              "      <th>1</th>\n",
              "      <td>mohon ulama lurus dan k212 mmbri hujjah partai...</td>\n",
              "      <td>mohon ulama lurus dan k mmbri hujjah partai ap...</td>\n",
              "      <td>False</td>\n",
              "      <td>True</td>\n",
              "      <td>False</td>\n",
              "    </tr>\n",
              "    <tr>\n",
              "      <th>2</th>\n",
              "      <td>lokasi strategis di jalan sumatera bandung . t...</td>\n",
              "      <td>lokasi strategis di jalan sumatra bandung temp...</td>\n",
              "      <td>False</td>\n",
              "      <td>False</td>\n",
              "      <td>True</td>\n",
              "    </tr>\n",
              "    <tr>\n",
              "      <th>3</th>\n",
              "      <td>betapa bahagia nya diri ini saat unboxing pake...</td>\n",
              "      <td>betapa bahagia nya diri ini saat unbog paket d...</td>\n",
              "      <td>False</td>\n",
              "      <td>False</td>\n",
              "      <td>True</td>\n",
              "    </tr>\n",
              "    <tr>\n",
              "      <th>4</th>\n",
              "      <td>duh . jadi mahasiswa jangan sombong dong . kas...</td>\n",
              "      <td>aduh jadi mahasiswa jangan sombong dong kasih ...</td>\n",
              "      <td>True</td>\n",
              "      <td>False</td>\n",
              "      <td>False</td>\n",
              "    </tr>\n",
              "  </tbody>\n",
              "</table>\n",
              "</div>"
            ],
            "text/plain": [
              "                                                Text  \\\n",
              "0  warung ini dimiliki oleh pengusaha pabrik tahu...   \n",
              "1  mohon ulama lurus dan k212 mmbri hujjah partai...   \n",
              "2  lokasi strategis di jalan sumatera bandung . t...   \n",
              "3  betapa bahagia nya diri ini saat unboxing pake...   \n",
              "4  duh . jadi mahasiswa jangan sombong dong . kas...   \n",
              "\n",
              "                                      Text_Cleansing  negative  neutral  \\\n",
              "0  warung ini dimiliki oleh pengusaha pabrik tahu...     False    False   \n",
              "1  mohon ulama lurus dan k mmbri hujjah partai ap...     False     True   \n",
              "2  lokasi strategis di jalan sumatra bandung temp...     False    False   \n",
              "3  betapa bahagia nya diri ini saat unbog paket d...     False    False   \n",
              "4  aduh jadi mahasiswa jangan sombong dong kasih ...      True    False   \n",
              "\n",
              "   positive  \n",
              "0      True  \n",
              "1     False  \n",
              "2      True  \n",
              "3      True  \n",
              "4     False  "
            ]
          },
          "execution_count": 13,
          "metadata": {},
          "output_type": "execute_result"
        }
      ],
      "source": [
        "train_df.head()"
      ]
    },
    {
      "cell_type": "markdown",
      "metadata": {
        "id": "ENslu4V1tbts"
      },
      "source": [
        "## **Preprocessing Text**"
      ]
    },
    {
      "cell_type": "code",
      "execution_count": 14,
      "metadata": {
        "id": "N4Yhv9qP8Crc"
      },
      "outputs": [],
      "source": [
        "## Preprocessing Text\n",
        "\n",
        "factory = StemmerFactory()\n",
        "stemer = factory.create_stemmer()\n",
        "\n",
        "list_stopwords_id = stopword.words('indonesian')\n",
        "list_stopwords_en = stopword.words('english')\n",
        "\n",
        "list_stopwords_id.extend(list_stopwords_en)\n",
        "list_stopwords_id.extend(['ya', 'yg', 'ga', 'yuk', 'dah','nya','duh','sih'])\n",
        "\n",
        "not_stopwords = {'enggak', 'tidak'}\n",
        "list_stopwords_id = set([word for word in list_stopwords_id if word not in not_stopwords])\n",
        "\n",
        "#1 Tokenisasi\n",
        "def tokenize (text):\n",
        "  token = word_tokenize(text)\n",
        "  return token\n",
        "\n",
        "#2 StopWord removal\n",
        "def stop_words(text):\n",
        "  after_stopwords = [word for word in text if not word in list_stopwords_id]\n",
        "  return after_stopwords\n",
        "\n",
        "#3 Stemming\n",
        "def stemming (text):\n",
        "  after_stemming = [stemer.stem(word) for word in text]\n",
        "  return after_stemming\n",
        "\n",
        "#4 Token to sentence\n",
        "def sentence(list_words):\n",
        "  sentence = ' '.join(word for word in list_words)\n",
        "  return sentence\n"
      ]
    },
    {
      "cell_type": "code",
      "execution_count": 15,
      "metadata": {
        "id": "qnTck5jh9uVx"
      },
      "outputs": [],
      "source": [
        "def preprocesing(text):\n",
        "  text = tokenize(text)\n",
        "  text = stop_words(text)\n",
        "  text = stemming(text)\n",
        "  text = sentence(text)\n",
        "  return text"
      ]
    },
    {
      "cell_type": "code",
      "execution_count": 16,
      "metadata": {
        "colab": {
          "base_uri": "https://localhost:8080/",
          "height": 293
        },
        "id": "Xt1uo6HVQmYS",
        "outputId": "0e8b6075-2467-4f23-bc8a-deb3df9317f8"
      },
      "outputs": [
        {
          "data": {
            "text/html": [
              "<div>\n",
              "<style scoped>\n",
              "    .dataframe tbody tr th:only-of-type {\n",
              "        vertical-align: middle;\n",
              "    }\n",
              "\n",
              "    .dataframe tbody tr th {\n",
              "        vertical-align: top;\n",
              "    }\n",
              "\n",
              "    .dataframe thead th {\n",
              "        text-align: right;\n",
              "    }\n",
              "</style>\n",
              "<table border=\"1\" class=\"dataframe\">\n",
              "  <thead>\n",
              "    <tr style=\"text-align: right;\">\n",
              "      <th></th>\n",
              "      <th>Text</th>\n",
              "      <th>Text_Cleansing</th>\n",
              "      <th>Text_Preprocessing</th>\n",
              "      <th>negative</th>\n",
              "      <th>neutral</th>\n",
              "      <th>positive</th>\n",
              "    </tr>\n",
              "  </thead>\n",
              "  <tbody>\n",
              "    <tr>\n",
              "      <th>0</th>\n",
              "      <td>warung ini dimiliki oleh pengusaha pabrik tahu...</td>\n",
              "      <td>warung ini dimiliki oleh pengusaha pabrik tahu...</td>\n",
              "      <td>warung milik usaha pabrik puluh kenal putih ba...</td>\n",
              "      <td>False</td>\n",
              "      <td>False</td>\n",
              "      <td>True</td>\n",
              "    </tr>\n",
              "    <tr>\n",
              "      <th>1</th>\n",
              "      <td>mohon ulama lurus dan k212 mmbri hujjah partai...</td>\n",
              "      <td>mohon ulama lurus dan k mmbri hujjah partai ap...</td>\n",
              "      <td>mohon ulama lurus k mmbri hujjah partai diwlh ...</td>\n",
              "      <td>False</td>\n",
              "      <td>True</td>\n",
              "      <td>False</td>\n",
              "    </tr>\n",
              "    <tr>\n",
              "      <th>2</th>\n",
              "      <td>lokasi strategis di jalan sumatera bandung . t...</td>\n",
              "      <td>lokasi strategis di jalan sumatra bandung temp...</td>\n",
              "      <td>lokasi strategis jalan sumatra bandung nyaman ...</td>\n",
              "      <td>False</td>\n",
              "      <td>False</td>\n",
              "      <td>True</td>\n",
              "    </tr>\n",
              "    <tr>\n",
              "      <th>3</th>\n",
              "      <td>betapa bahagia nya diri ini saat unboxing pake...</td>\n",
              "      <td>betapa bahagia nya diri ini saat unbog paket d...</td>\n",
              "      <td>betapa bahagia unbog paket barang bagus tetap ...</td>\n",
              "      <td>False</td>\n",
              "      <td>False</td>\n",
              "      <td>True</td>\n",
              "    </tr>\n",
              "    <tr>\n",
              "      <th>4</th>\n",
              "      <td>duh . jadi mahasiswa jangan sombong dong . kas...</td>\n",
              "      <td>aduh jadi mahasiswa jangan sombong dong kasih ...</td>\n",
              "      <td>aduh mahasiswa sombong kasih kartu kuning ajar...</td>\n",
              "      <td>True</td>\n",
              "      <td>False</td>\n",
              "      <td>False</td>\n",
              "    </tr>\n",
              "  </tbody>\n",
              "</table>\n",
              "</div>"
            ],
            "text/plain": [
              "                                                Text  \\\n",
              "0  warung ini dimiliki oleh pengusaha pabrik tahu...   \n",
              "1  mohon ulama lurus dan k212 mmbri hujjah partai...   \n",
              "2  lokasi strategis di jalan sumatera bandung . t...   \n",
              "3  betapa bahagia nya diri ini saat unboxing pake...   \n",
              "4  duh . jadi mahasiswa jangan sombong dong . kas...   \n",
              "\n",
              "                                      Text_Cleansing  \\\n",
              "0  warung ini dimiliki oleh pengusaha pabrik tahu...   \n",
              "1  mohon ulama lurus dan k mmbri hujjah partai ap...   \n",
              "2  lokasi strategis di jalan sumatra bandung temp...   \n",
              "3  betapa bahagia nya diri ini saat unbog paket d...   \n",
              "4  aduh jadi mahasiswa jangan sombong dong kasih ...   \n",
              "\n",
              "                                  Text_Preprocessing  negative  neutral  \\\n",
              "0  warung milik usaha pabrik puluh kenal putih ba...     False    False   \n",
              "1  mohon ulama lurus k mmbri hujjah partai diwlh ...     False     True   \n",
              "2  lokasi strategis jalan sumatra bandung nyaman ...     False    False   \n",
              "3  betapa bahagia unbog paket barang bagus tetap ...     False    False   \n",
              "4  aduh mahasiswa sombong kasih kartu kuning ajar...      True    False   \n",
              "\n",
              "   positive  \n",
              "0      True  \n",
              "1     False  \n",
              "2      True  \n",
              "3      True  \n",
              "4     False  "
            ]
          },
          "execution_count": 16,
          "metadata": {},
          "output_type": "execute_result"
        }
      ],
      "source": [
        "train_df['Text_Preprocessing'] = train_df['Text_Cleansing'].apply(preprocesing)\n",
        "train_df = train_df[['Text','Text_Cleansing','Text_Preprocessing','negative','neutral','positive']]\n",
        "\n",
        "train_df.head()"
      ]
    },
    {
      "cell_type": "markdown",
      "metadata": {
        "id": "lBmwRWwDtlej"
      },
      "source": [
        "## **Feature Extraction (Tf - Idf)**"
      ]
    },
    {
      "cell_type": "code",
      "execution_count": 17,
      "metadata": {
        "id": "m9wl7dcAuirf"
      },
      "outputs": [],
      "source": [
        "## Feature Extraction\n",
        "\n",
        "tfidf = TfidfVectorizer()\n",
        "train_tfidf = tfidf.fit_transform(train_df['Text_Preprocessing'].tolist())"
      ]
    },
    {
      "cell_type": "code",
      "execution_count": 18,
      "metadata": {
        "id": "mM4AphOhGjYu"
      },
      "outputs": [],
      "source": [
        "y = train_df[['negative','neutral','positive']].values"
      ]
    },
    {
      "cell_type": "markdown",
      "metadata": {
        "id": "HoStuuSW3wHT"
      },
      "source": [
        "## **Train Test Split**"
      ]
    },
    {
      "cell_type": "code",
      "execution_count": 19,
      "metadata": {
        "id": "UeaQRvhMDAiZ"
      },
      "outputs": [],
      "source": [
        "## Split train dataset\n",
        "\n",
        "X_train, X_test, y_train, y_test = train_test_split(train_tfidf, y, test_size = 0.2, random_state = 1)"
      ]
    },
    {
      "cell_type": "markdown",
      "metadata": {
        "id": "5uFpjjNS4X8u"
      },
      "source": [
        "## **Create MLP Classifier Model**"
      ]
    },
    {
      "cell_type": "code",
      "execution_count": 20,
      "metadata": {
        "colab": {
          "base_uri": "https://localhost:8080/",
          "height": 1000
        },
        "id": "5TWDEo-cv9yT",
        "outputId": "43f4aea7-a032-4bb5-b416-92c6dae08e26"
      },
      "outputs": [
        {
          "name": "stdout",
          "output_type": "stream",
          "text": [
            "Iteration 1, loss = 1.05118738\n",
            "Validation score: 0.819318\n",
            "Iteration 2, loss = 0.64461366\n",
            "Validation score: 0.817045\n",
            "Iteration 3, loss = 0.50230171\n",
            "Validation score: 0.818182\n",
            "Iteration 4, loss = 0.49129126\n",
            "Validation score: 0.818182\n",
            "Iteration 5, loss = 0.47759816\n",
            "Validation score: 0.805682\n",
            "Iteration 6, loss = 0.45957486\n",
            "Validation score: 0.813636\n",
            "Iteration 7, loss = 0.45357298\n",
            "Validation score: 0.807955\n",
            "Iteration 8, loss = 0.45974446\n",
            "Validation score: 0.825000\n",
            "Iteration 9, loss = 0.45333381\n",
            "Validation score: 0.823864\n",
            "Iteration 10, loss = 0.43413923\n",
            "Validation score: 0.822727\n",
            "Iteration 11, loss = 0.42409562\n",
            "Validation score: 0.826136\n",
            "Iteration 12, loss = 0.44118871\n",
            "Validation score: 0.825000\n",
            "Iteration 13, loss = 0.47277161\n",
            "Validation score: 0.828409\n",
            "Iteration 14, loss = 0.46753929\n",
            "Validation score: 0.819318\n",
            "Iteration 15, loss = 0.43564004\n",
            "Validation score: 0.821591\n",
            "Iteration 16, loss = 0.42317052\n",
            "Validation score: 0.845455\n",
            "Iteration 17, loss = 0.40671971\n",
            "Validation score: 0.837500\n",
            "Iteration 18, loss = 0.44182514\n",
            "Validation score: 0.826136\n",
            "Iteration 19, loss = 0.48945656\n",
            "Validation score: 0.822727\n",
            "Iteration 20, loss = 0.47719933\n",
            "Validation score: 0.837500\n",
            "Iteration 21, loss = 0.44448010\n",
            "Validation score: 0.810227\n",
            "Iteration 22, loss = 0.43189045\n",
            "Validation score: 0.811364\n",
            "Iteration 23, loss = 0.41197615\n",
            "Validation score: 0.826136\n",
            "Iteration 24, loss = 0.39767340\n",
            "Validation score: 0.818182\n",
            "Iteration 25, loss = 0.43821243\n",
            "Validation score: 0.832955\n",
            "Iteration 26, loss = 0.44490324\n",
            "Validation score: 0.826136\n",
            "Iteration 27, loss = 0.41634970\n",
            "Validation score: 0.832955\n",
            "Validation score did not improve more than tol=0.000100 for 10 consecutive epochs. Stopping.\n"
          ]
        },
        {
          "data": {
            "text/html": [
              "<style>#sk-container-id-1 {color: black;}#sk-container-id-1 pre{padding: 0;}#sk-container-id-1 div.sk-toggleable {background-color: white;}#sk-container-id-1 label.sk-toggleable__label {cursor: pointer;display: block;width: 100%;margin-bottom: 0;padding: 0.3em;box-sizing: border-box;text-align: center;}#sk-container-id-1 label.sk-toggleable__label-arrow:before {content: \"▸\";float: left;margin-right: 0.25em;color: #696969;}#sk-container-id-1 label.sk-toggleable__label-arrow:hover:before {color: black;}#sk-container-id-1 div.sk-estimator:hover label.sk-toggleable__label-arrow:before {color: black;}#sk-container-id-1 div.sk-toggleable__content {max-height: 0;max-width: 0;overflow: hidden;text-align: left;background-color: #f0f8ff;}#sk-container-id-1 div.sk-toggleable__content pre {margin: 0.2em;color: black;border-radius: 0.25em;background-color: #f0f8ff;}#sk-container-id-1 input.sk-toggleable__control:checked~div.sk-toggleable__content {max-height: 200px;max-width: 100%;overflow: auto;}#sk-container-id-1 input.sk-toggleable__control:checked~label.sk-toggleable__label-arrow:before {content: \"▾\";}#sk-container-id-1 div.sk-estimator input.sk-toggleable__control:checked~label.sk-toggleable__label {background-color: #d4ebff;}#sk-container-id-1 div.sk-label input.sk-toggleable__control:checked~label.sk-toggleable__label {background-color: #d4ebff;}#sk-container-id-1 input.sk-hidden--visually {border: 0;clip: rect(1px 1px 1px 1px);clip: rect(1px, 1px, 1px, 1px);height: 1px;margin: -1px;overflow: hidden;padding: 0;position: absolute;width: 1px;}#sk-container-id-1 div.sk-estimator {font-family: monospace;background-color: #f0f8ff;border: 1px dotted black;border-radius: 0.25em;box-sizing: border-box;margin-bottom: 0.5em;}#sk-container-id-1 div.sk-estimator:hover {background-color: #d4ebff;}#sk-container-id-1 div.sk-parallel-item::after {content: \"\";width: 100%;border-bottom: 1px solid gray;flex-grow: 1;}#sk-container-id-1 div.sk-label:hover label.sk-toggleable__label {background-color: #d4ebff;}#sk-container-id-1 div.sk-serial::before {content: \"\";position: absolute;border-left: 1px solid gray;box-sizing: border-box;top: 0;bottom: 0;left: 50%;z-index: 0;}#sk-container-id-1 div.sk-serial {display: flex;flex-direction: column;align-items: center;background-color: white;padding-right: 0.2em;padding-left: 0.2em;position: relative;}#sk-container-id-1 div.sk-item {position: relative;z-index: 1;}#sk-container-id-1 div.sk-parallel {display: flex;align-items: stretch;justify-content: center;background-color: white;position: relative;}#sk-container-id-1 div.sk-item::before, #sk-container-id-1 div.sk-parallel-item::before {content: \"\";position: absolute;border-left: 1px solid gray;box-sizing: border-box;top: 0;bottom: 0;left: 50%;z-index: -1;}#sk-container-id-1 div.sk-parallel-item {display: flex;flex-direction: column;z-index: 1;position: relative;background-color: white;}#sk-container-id-1 div.sk-parallel-item:first-child::after {align-self: flex-end;width: 50%;}#sk-container-id-1 div.sk-parallel-item:last-child::after {align-self: flex-start;width: 50%;}#sk-container-id-1 div.sk-parallel-item:only-child::after {width: 0;}#sk-container-id-1 div.sk-dashed-wrapped {border: 1px dashed gray;margin: 0 0.4em 0.5em 0.4em;box-sizing: border-box;padding-bottom: 0.4em;background-color: white;}#sk-container-id-1 div.sk-label label {font-family: monospace;font-weight: bold;display: inline-block;line-height: 1.2em;}#sk-container-id-1 div.sk-label-container {text-align: center;}#sk-container-id-1 div.sk-container {/* jupyter's `normalize.less` sets `[hidden] { display: none; }` but bootstrap.min.css set `[hidden] { display: none !important; }` so we also need the `!important` here to be able to override the default hidden behavior on the sphinx rendered scikit-learn.org. See: https://github.com/scikit-learn/scikit-learn/issues/21755 */display: inline-block !important;position: relative;}#sk-container-id-1 div.sk-text-repr-fallback {display: none;}</style><div id=\"sk-container-id-1\" class=\"sk-top-container\"><div class=\"sk-text-repr-fallback\"><pre>MLPClassifier(alpha=0.008, early_stopping=True, epsilon=1e-05,\n",
              "              hidden_layer_sizes=30, learning_rate_init=0.1, max_iter=100,\n",
              "              random_state=123, verbose=True, warm_start=True)</pre><b>In a Jupyter environment, please rerun this cell to show the HTML representation or trust the notebook. <br />On GitHub, the HTML representation is unable to render, please try loading this page with nbviewer.org.</b></div><div class=\"sk-container\" hidden><div class=\"sk-item\"><div class=\"sk-estimator sk-toggleable\"><input class=\"sk-toggleable__control sk-hidden--visually\" id=\"sk-estimator-id-1\" type=\"checkbox\" checked><label for=\"sk-estimator-id-1\" class=\"sk-toggleable__label sk-toggleable__label-arrow\">MLPClassifier</label><div class=\"sk-toggleable__content\"><pre>MLPClassifier(alpha=0.008, early_stopping=True, epsilon=1e-05,\n",
              "              hidden_layer_sizes=30, learning_rate_init=0.1, max_iter=100,\n",
              "              random_state=123, verbose=True, warm_start=True)</pre></div></div></div></div></div>"
            ],
            "text/plain": [
              "MLPClassifier(alpha=0.008, early_stopping=True, epsilon=1e-05,\n",
              "              hidden_layer_sizes=30, learning_rate_init=0.1, max_iter=100,\n",
              "              random_state=123, verbose=True, warm_start=True)"
            ]
          },
          "execution_count": 20,
          "metadata": {},
          "output_type": "execute_result"
        }
      ],
      "source": [
        "## MLP Classifier Model\n",
        "from sklearn.neural_network import MLPClassifier\n",
        "\n",
        "clf = MLPClassifier(activation= 'relu',solver = 'adam',hidden_layer_sizes=(30),max_iter = 100, alpha = 0.008, verbose = True, epsilon = 1e-5, random_state = 123, learning_rate_init= 0.1, early_stopping=True, warm_start = True)\n",
        "\n",
        "clf.fit(X_train, y_train)"
      ]
    },
    {
      "cell_type": "markdown",
      "metadata": {
        "id": "4yPBk6Zf4nhM"
      },
      "source": [
        "## **Evaluation**"
      ]
    },
    {
      "cell_type": "code",
      "execution_count": 21,
      "metadata": {
        "colab": {
          "base_uri": "https://localhost:8080/"
        },
        "id": "c19p8FpKDm_X",
        "outputId": "a049bb15-9983-4bf0-c8ee-4e4e8c223ef3"
      },
      "outputs": [
        {
          "name": "stdout",
          "output_type": "stream",
          "text": [
            "              precision    recall  f1-score   support\n",
            "\n",
            "           0       0.76      0.81      0.78       672\n",
            "           1       0.75      0.61      0.67       239\n",
            "           2       0.91      0.90      0.90      1289\n",
            "\n",
            "   micro avg       0.84      0.84      0.84      2200\n",
            "   macro avg       0.81      0.77      0.79      2200\n",
            "weighted avg       0.84      0.84      0.84      2200\n",
            " samples avg       0.84      0.84      0.84      2200\n",
            "\n",
            "0.8318181818181818\n"
          ]
        }
      ],
      "source": [
        "## Evaluation Model\n",
        "\n",
        "from sklearn.metrics import accuracy_score\n",
        "from sklearn.metrics import classification_report\n",
        "\n",
        "y_predict = clf.predict(X_test)\n",
        "\n",
        "print(classification_report(y_test, y_predict, zero_division = 0.0))\n",
        "print(accuracy_score(y_test, y_predict))"
      ]
    },
    {
      "cell_type": "code",
      "execution_count": 22,
      "metadata": {
        "colab": {
          "base_uri": "https://localhost:8080/"
        },
        "id": "OO4zTwf9O9dW",
        "outputId": "887d4d94-6874-4f1d-9f3f-95b1086bcc15"
      },
      "outputs": [
        {
          "name": "stdout",
          "output_type": "stream",
          "text": [
            "Training Score ==>  0.9761363636363637\n",
            "Testing Score ==>  0.8318181818181818\n"
          ]
        }
      ],
      "source": [
        "print(\"Training Score ==> \", clf.score(X_train, y_train))\n",
        "print(\"Testing Score ==> \", clf.score(X_test, y_test))"
      ]
    },
    {
      "cell_type": "code",
      "execution_count": 24,
      "metadata": {
        "colab": {
          "base_uri": "https://localhost:8080/",
          "height": 447
        },
        "id": "PsnY44U_UVQ4",
        "outputId": "73a866ef-c79d-4809-b824-79de2e9cd0b5"
      },
      "outputs": [
        {
          "data": {
            "text/plain": [
              "[<matplotlib.lines.Line2D at 0x13f6e1bd0>]"
            ]
          },
          "execution_count": 24,
          "metadata": {},
          "output_type": "execute_result"
        },
        {
          "data": {
            "image/png": "[encoded data removed]",
            "text/plain": [
              "<Figure size 640x480 with 1 Axes>"
            ]
          },
          "metadata": {},
          "output_type": "display_data"
        }
      ],
      "source": [
        "import matplotlib.pyplot as plt\n",
        "\n",
        "plt.plot(clf.loss_curve_)"
      ]
    },
    {
      "cell_type": "markdown",
      "metadata": {
        "id": "Sw6gdTmr4rnG"
      },
      "source": [
        "## **Cross Validation**"
      ]
    },
    {
      "cell_type": "code",
      "execution_count": 25,
      "metadata": {
        "colab": {
          "base_uri": "https://localhost:8080/"
        },
        "id": "TkfkgETVXJ7K",
        "outputId": "c9993655-7383-4f1d-8328-ee1198948f5b"
      },
      "outputs": [
        {
          "name": "stdout",
          "output_type": "stream",
          "text": [
            "Training ke- 1\n",
            "              precision    recall  f1-score   support\n",
            "\n",
            "           0       0.79      0.79      0.79       480\n",
            "           1       0.75      0.64      0.69       166\n",
            "           2       0.91      0.91      0.91       926\n",
            "\n",
            "   micro avg       0.86      0.85      0.85      1572\n",
            "   macro avg       0.82      0.78      0.80      1572\n",
            "weighted avg       0.86      0.85      0.85      1572\n",
            " samples avg       0.84      0.85      0.84      1572\n",
            "\n",
            "Accuracy ==>  0.8403307888040712\n",
            "======================================================\n",
            "Training ke- 2\n",
            "              precision    recall  f1-score   support\n",
            "\n",
            "           0       0.77      0.76      0.77       489\n",
            "           1       0.71      0.63      0.67       153\n",
            "           2       0.90      0.90      0.90       930\n",
            "\n",
            "   micro avg       0.85      0.83      0.84      1572\n",
            "   macro avg       0.80      0.76      0.78      1572\n",
            "weighted avg       0.84      0.83      0.84      1572\n",
            " samples avg       0.83      0.83      0.83      1572\n",
            "\n",
            "Accuracy ==>  0.8231552162849872\n",
            "======================================================\n",
            "Training ke- 3\n",
            "              precision    recall  f1-score   support\n",
            "\n",
            "           0       0.77      0.80      0.79       474\n",
            "           1       0.73      0.65      0.69       150\n",
            "           2       0.92      0.89      0.91       948\n",
            "\n",
            "   micro avg       0.86      0.84      0.85      1572\n",
            "   macro avg       0.81      0.78      0.79      1572\n",
            "weighted avg       0.86      0.84      0.85      1572\n",
            " samples avg       0.84      0.84      0.84      1572\n",
            "\n",
            "Accuracy ==>  0.833969465648855\n",
            "======================================================\n",
            "Training ke- 4\n",
            "              precision    recall  f1-score   support\n",
            "\n",
            "           0       0.75      0.78      0.77       477\n",
            "           1       0.81      0.68      0.74       190\n",
            "           2       0.90      0.88      0.89       904\n",
            "\n",
            "   micro avg       0.84      0.83      0.83      1571\n",
            "   macro avg       0.82      0.78      0.80      1571\n",
            "weighted avg       0.84      0.83      0.83      1571\n",
            " samples avg       0.82      0.83      0.83      1571\n",
            "\n",
            "Accuracy ==>  0.8211330362826226\n",
            "======================================================\n",
            "Training ke- 5\n",
            "              precision    recall  f1-score   support\n",
            "\n",
            "           0       0.78      0.77      0.78       503\n",
            "           1       0.72      0.57      0.63       155\n",
            "           2       0.89      0.90      0.90       913\n",
            "\n",
            "   micro avg       0.84      0.83      0.83      1571\n",
            "   macro avg       0.80      0.75      0.77      1571\n",
            "weighted avg       0.84      0.83      0.83      1571\n",
            " samples avg       0.82      0.83      0.83      1571\n",
            "\n",
            "Accuracy ==>  0.8192234245703374\n",
            "======================================================\n",
            "Training ke- 6\n",
            "              precision    recall  f1-score   support\n",
            "\n",
            "           0       0.84      0.76      0.80       512\n",
            "           1       0.75      0.71      0.73       187\n",
            "           2       0.88      0.91      0.89       872\n",
            "\n",
            "   micro avg       0.85      0.84      0.84      1571\n",
            "   macro avg       0.82      0.79      0.81      1571\n",
            "weighted avg       0.85      0.84      0.84      1571\n",
            " samples avg       0.83      0.84      0.83      1571\n",
            "\n",
            "Accuracy ==>  0.8134945894334819\n",
            "======================================================\n",
            "Training ke- 7\n",
            "              precision    recall  f1-score   support\n",
            "\n",
            "           0       0.81      0.78      0.80       501\n",
            "           1       0.67      0.59      0.63       147\n",
            "           2       0.92      0.90      0.91       923\n",
            "\n",
            "   micro avg       0.86      0.84      0.85      1571\n",
            "   macro avg       0.80      0.76      0.78      1571\n",
            "weighted avg       0.86      0.84      0.85      1571\n",
            " samples avg       0.83      0.84      0.83      1571\n",
            "\n",
            "Accuracy ==>  0.8268618714194781\n",
            "======================================================\n",
            "\n",
            "\n",
            "\n",
            "Rata-rata Accuracy:  0.8254526274919761\n"
          ]
        }
      ],
      "source": [
        "## Cross Validation to check performance ability\n",
        "\n",
        "import numpy as np\n",
        "from sklearn.model_selection import KFold\n",
        "from sklearn.metrics import classification_report\n",
        "\n",
        "kf = KFold(n_splits=7,shuffle=False)\n",
        "\n",
        "accuracies = []\n",
        "\n",
        "label = y\n",
        "\n",
        "for iteration, data in enumerate(kf.split(train_tfidf), start=1):\n",
        "\n",
        "    data_train   = train_tfidf[data[0]]\n",
        "    target_train = label[data[0]]\n",
        "\n",
        "    data_test    = train_tfidf[data[1]]\n",
        "    target_test  = label[data[1]]\n",
        "\n",
        "    clf = MLPClassifier()\n",
        "    clf = MLPClassifier(activation= 'relu',solver = 'adam',hidden_layer_sizes=(30,),max_iter = 100, alpha = 0.008, verbose = False, epsilon = 1e-5, random_state = 123, learning_rate_init= 0.1,early_stopping=True, warm_start = True)\n",
        "\n",
        "    clf.fit(data_train,target_train)\n",
        "\n",
        "    preds = clf.predict(data_test)\n",
        "\n",
        "    # for the current fold only\n",
        "    accuracy = accuracy_score(target_test,preds)\n",
        "\n",
        "    print(\"Training ke-\", iteration)\n",
        "    print(classification_report(target_test,preds, zero_division=0.0))\n",
        "    print(\"Accuracy ==> \",accuracy_score(target_test, preds))\n",
        "    print(\"======================================================\")\n",
        "\n",
        "    # plt.plot(clf.loss_curve_)\n",
        "    # plt.show()\n",
        "    accuracies.append(accuracy)\n",
        "\n",
        "# this is the average accuracy over all folds\n",
        "average_accuracy = np.mean(accuracies)\n",
        "\n",
        "print()\n",
        "print()\n",
        "print()\n",
        "print(\"Rata-rata Accuracy: \", average_accuracy)"
      ]
    },
    {
      "cell_type": "markdown",
      "metadata": {
        "id": "6TgJlNJs4w7Q"
      },
      "source": [
        "## **Saved Model with Pickle**"
      ]
    },
    {
      "cell_type": "code",
      "execution_count": 26,
      "metadata": {
        "colab": {
          "base_uri": "https://localhost:8080/"
        },
        "id": "IhjDcT2i3P-d",
        "outputId": "26d56103-36e1-4923-b506-e3e0a358805f"
      },
      "outputs": [
        {
          "name": "stdout",
          "output_type": "stream",
          "text": [
            "model_MLP Saved!\n"
          ]
        }
      ],
      "source": [
        "## Save Model\n",
        "\n",
        "with open('model_MLP.pickle', 'wb') as handle:\n",
        "    pickle.dump(clf, handle, protocol=pickle.HIGHEST_PROTOCOL)\n",
        "    print(\"model_MLP Saved!\")"
      ]
    },
    {
      "cell_type": "markdown",
      "metadata": {
        "id": "fQbdNbs045tr"
      },
      "source": [
        "## **Testing Model**"
      ]
    },
    {
      "cell_type": "code",
      "execution_count": 27,
      "metadata": {
        "id": "8wajhefOJAaW"
      },
      "outputs": [],
      "source": [
        "## Testinng Text\n",
        "\n",
        "def predict_sentiment(text):\n",
        "  text = regex_cleansing(text)\n",
        "  preproces = [preprocesing(text)]\n",
        " # print(preproces)\n",
        "  text_transform = tfidf.transform(preproces)\n",
        " # print(text_transform)\n",
        "  predict = clf.predict(text_transform)\n",
        "#  print(predict)\n",
        "  for i in predict:\n",
        "    if i[0] == 1:\n",
        "      output = 'Negative'\n",
        "    elif i[1] == 1:\n",
        "      output = 'Neutral'\n",
        "    elif i[2] == 1:\n",
        "      output = 'Positive'\n",
        "    ## Condition : [[0 0 0]]\n",
        "    else:\n",
        "      output = 'Neutral'\n",
        "  return output"
      ]
    },
    {
      "cell_type": "code",
      "execution_count": 28,
      "metadata": {
        "colab": {
          "base_uri": "https://localhost:8080/"
        },
        "id": "j0oyZ1nYYR7d",
        "outputId": "749330cf-c9e7-4bb5-94a8-5bc56e1b71a5"
      },
      "outputs": [
        {
          "name": "stdout",
          "output_type": "stream",
          "text": [
            "Makanan ini sangat enak sekali !!!\n",
            "Sentiment ==>  Positive\n"
          ]
        }
      ],
      "source": [
        "# Text 1\n",
        "text = 'Makanan ini sangat enak sekali !!!'\n",
        "\n",
        "sentiment = predict_sentiment(text)\n",
        "print(text)\n",
        "print(\"Sentiment ==> \",sentiment)"
      ]
    },
    {
      "cell_type": "code",
      "execution_count": 29,
      "metadata": {
        "colab": {
          "base_uri": "https://localhost:8080/"
        },
        "id": "h51H_OTrk_Xa",
        "outputId": "6c0ff1db-2da6-4d07-ae94-f33568325abc"
      },
      "outputs": [
        {
          "name": "stdout",
          "output_type": "stream",
          "text": [
            "Aku Cinta Kamu Dan Dia !!1\n",
            "Sentiment ==> Positive\n"
          ]
        }
      ],
      "source": [
        "## Text 2\n",
        "\n",
        "text = 'Aku Cinta Kamu Dan Dia !!1'\n",
        "\n",
        "sentiment = predict_sentiment(text)\n",
        "print(text)\n",
        "print(\"Sentiment ==>\", sentiment)"
      ]
    },
    {
      "cell_type": "code",
      "execution_count": 31,
      "metadata": {
        "colab": {
          "base_uri": "https://localhost:8080/",
          "height": 423
        },
        "id": "JwaI7Zx4mH4I",
        "outputId": "5cfe1b58-cbf7-4e04-e1ce-b16bf6e71033"
      },
      "outputs": [
        {
          "data": {
            "text/html": [
              "<div>\n",
              "<style scoped>\n",
              "    .dataframe tbody tr th:only-of-type {\n",
              "        vertical-align: middle;\n",
              "    }\n",
              "\n",
              "    .dataframe tbody tr th {\n",
              "        vertical-align: top;\n",
              "    }\n",
              "\n",
              "    .dataframe thead th {\n",
              "        text-align: right;\n",
              "    }\n",
              "</style>\n",
              "<table border=\"1\" class=\"dataframe\">\n",
              "  <thead>\n",
              "    <tr style=\"text-align: right;\">\n",
              "      <th></th>\n",
              "      <th>Tweet</th>\n",
              "    </tr>\n",
              "  </thead>\n",
              "  <tbody>\n",
              "    <tr>\n",
              "      <th>0</th>\n",
              "      <td>- disaat semua cowok berusaha melacak perhatia...</td>\n",
              "    </tr>\n",
              "    <tr>\n",
              "      <th>1</th>\n",
              "      <td>RT USER: USER siapa yang telat ngasih tau elu?...</td>\n",
              "    </tr>\n",
              "    <tr>\n",
              "      <th>2</th>\n",
              "      <td>41. Kadang aku berfikir, kenapa aku tetap perc...</td>\n",
              "    </tr>\n",
              "    <tr>\n",
              "      <th>3</th>\n",
              "      <td>USER USER AKU ITU AKU\\n\\nKU TAU MATAMU SIPIT T...</td>\n",
              "    </tr>\n",
              "    <tr>\n",
              "      <th>4</th>\n",
              "      <td>USER USER Kaum cebong kapir udah keliatan dong...</td>\n",
              "    </tr>\n",
              "    <tr>\n",
              "      <th>...</th>\n",
              "      <td>...</td>\n",
              "    </tr>\n",
              "    <tr>\n",
              "      <th>13164</th>\n",
              "      <td>USER jangan asal ngomong ndasmu. congor lu yg ...</td>\n",
              "    </tr>\n",
              "    <tr>\n",
              "      <th>13165</th>\n",
              "      <td>USER Kasur mana enak kunyuk'</td>\n",
              "    </tr>\n",
              "    <tr>\n",
              "      <th>13166</th>\n",
              "      <td>USER Hati hati bisu :( .g\\n\\nlagi bosan huft \\...</td>\n",
              "    </tr>\n",
              "    <tr>\n",
              "      <th>13167</th>\n",
              "      <td>USER USER USER USER Bom yang real mudah terdet...</td>\n",
              "    </tr>\n",
              "    <tr>\n",
              "      <th>13168</th>\n",
              "      <td>USER Mana situ ngasih(\": itu cuma foto ya kuti...</td>\n",
              "    </tr>\n",
              "  </tbody>\n",
              "</table>\n",
              "<p>13023 rows × 1 columns</p>\n",
              "</div>"
            ],
            "text/plain": [
              "                                                   Tweet\n",
              "0      - disaat semua cowok berusaha melacak perhatia...\n",
              "1      RT USER: USER siapa yang telat ngasih tau elu?...\n",
              "2      41. Kadang aku berfikir, kenapa aku tetap perc...\n",
              "3      USER USER AKU ITU AKU\\n\\nKU TAU MATAMU SIPIT T...\n",
              "4      USER USER Kaum cebong kapir udah keliatan dong...\n",
              "...                                                  ...\n",
              "13164  USER jangan asal ngomong ndasmu. congor lu yg ...\n",
              "13165                       USER Kasur mana enak kunyuk'\n",
              "13166  USER Hati hati bisu :( .g\\n\\nlagi bosan huft \\...\n",
              "13167  USER USER USER USER Bom yang real mudah terdet...\n",
              "13168  USER Mana situ ngasih(\": itu cuma foto ya kuti...\n",
              "\n",
              "[13023 rows x 1 columns]"
            ]
          },
          "execution_count": 31,
          "metadata": {},
          "output_type": "execute_result"
        }
      ],
      "source": [
        "## Test Model using data test(Tweet data test)\n",
        "\n",
        "tweet_df = pd.read_csv('File_Tweet.csv', encoding = 'windows-1250', usecols = [0])\n",
        "tweet_df.drop_duplicates()\n",
        "\n",
        "#tweet_df['Tweet_Cleansing'] = tweet_df['Tweet'].apply(regex_cleansing)\n",
        "#tweet_df['Tweet_Preprocessing'] = tweet_df['Tweet_Cleansing'].apply(preprocesing)"
      ]
    },
    {
      "cell_type": "code",
      "execution_count": 32,
      "metadata": {
        "id": "e_QtPbwXG_1n"
      },
      "outputs": [],
      "source": [
        "## Predict Tweet Sentiment\n",
        "\n",
        "tweet_df['Sentiment'] = tweet_df['Tweet'].apply(predict_sentiment)"
      ]
    },
    {
      "cell_type": "code",
      "execution_count": 33,
      "metadata": {
        "colab": {
          "base_uri": "https://localhost:8080/",
          "height": 423
        },
        "id": "TOJ45IRM4bIu",
        "outputId": "866cdfdc-c62e-484d-bc8a-b1357db64219"
      },
      "outputs": [
        {
          "data": {
            "text/html": [
              "<div>\n",
              "<style scoped>\n",
              "    .dataframe tbody tr th:only-of-type {\n",
              "        vertical-align: middle;\n",
              "    }\n",
              "\n",
              "    .dataframe tbody tr th {\n",
              "        vertical-align: top;\n",
              "    }\n",
              "\n",
              "    .dataframe thead th {\n",
              "        text-align: right;\n",
              "    }\n",
              "</style>\n",
              "<table border=\"1\" class=\"dataframe\">\n",
              "  <thead>\n",
              "    <tr style=\"text-align: right;\">\n",
              "      <th></th>\n",
              "      <th>Tweet</th>\n",
              "      <th>Sentiment</th>\n",
              "    </tr>\n",
              "  </thead>\n",
              "  <tbody>\n",
              "    <tr>\n",
              "      <th>0</th>\n",
              "      <td>- disaat semua cowok berusaha melacak perhatia...</td>\n",
              "      <td>Negative</td>\n",
              "    </tr>\n",
              "    <tr>\n",
              "      <th>2</th>\n",
              "      <td>41. Kadang aku berfikir, kenapa aku tetap perc...</td>\n",
              "      <td>Negative</td>\n",
              "    </tr>\n",
              "    <tr>\n",
              "      <th>4</th>\n",
              "      <td>USER USER Kaum cebong kapir udah keliatan dong...</td>\n",
              "      <td>Negative</td>\n",
              "    </tr>\n",
              "    <tr>\n",
              "      <th>5</th>\n",
              "      <td>USER Ya bani taplak dkk \\xf0\\x9f\\x98\\x84\\xf0\\x...</td>\n",
              "      <td>Negative</td>\n",
              "    </tr>\n",
              "    <tr>\n",
              "      <th>7</th>\n",
              "      <td>Gue baru aja kelar re-watch Aldnoah Zero!!! pa...</td>\n",
              "      <td>Negative</td>\n",
              "    </tr>\n",
              "    <tr>\n",
              "      <th>...</th>\n",
              "      <td>...</td>\n",
              "      <td>...</td>\n",
              "    </tr>\n",
              "    <tr>\n",
              "      <th>13163</th>\n",
              "      <td>Orang Yahudi, Kristen dan Muslim yang belum pe...</td>\n",
              "      <td>Negative</td>\n",
              "    </tr>\n",
              "    <tr>\n",
              "      <th>13164</th>\n",
              "      <td>USER jangan asal ngomong ndasmu. congor lu yg ...</td>\n",
              "      <td>Negative</td>\n",
              "    </tr>\n",
              "    <tr>\n",
              "      <th>13166</th>\n",
              "      <td>USER Hati hati bisu :( .g\\n\\nlagi bosan huft \\...</td>\n",
              "      <td>Negative</td>\n",
              "    </tr>\n",
              "    <tr>\n",
              "      <th>13167</th>\n",
              "      <td>USER USER USER USER Bom yang real mudah terdet...</td>\n",
              "      <td>Negative</td>\n",
              "    </tr>\n",
              "    <tr>\n",
              "      <th>13168</th>\n",
              "      <td>USER Mana situ ngasih(\": itu cuma foto ya kuti...</td>\n",
              "      <td>Negative</td>\n",
              "    </tr>\n",
              "  </tbody>\n",
              "</table>\n",
              "<p>9271 rows × 2 columns</p>\n",
              "</div>"
            ],
            "text/plain": [
              "                                                   Tweet Sentiment\n",
              "0      - disaat semua cowok berusaha melacak perhatia...  Negative\n",
              "2      41. Kadang aku berfikir, kenapa aku tetap perc...  Negative\n",
              "4      USER USER Kaum cebong kapir udah keliatan dong...  Negative\n",
              "5      USER Ya bani taplak dkk \\xf0\\x9f\\x98\\x84\\xf0\\x...  Negative\n",
              "7      Gue baru aja kelar re-watch Aldnoah Zero!!! pa...  Negative\n",
              "...                                                  ...       ...\n",
              "13163  Orang Yahudi, Kristen dan Muslim yang belum pe...  Negative\n",
              "13164  USER jangan asal ngomong ndasmu. congor lu yg ...  Negative\n",
              "13166  USER Hati hati bisu :( .g\\n\\nlagi bosan huft \\...  Negative\n",
              "13167  USER USER USER USER Bom yang real mudah terdet...  Negative\n",
              "13168  USER Mana situ ngasih(\": itu cuma foto ya kuti...  Negative\n",
              "\n",
              "[9271 rows x 2 columns]"
            ]
          },
          "execution_count": 33,
          "metadata": {},
          "output_type": "execute_result"
        }
      ],
      "source": [
        "tweet_df[tweet_df['Sentiment'] == 'Negative']"
      ]
    },
    {
      "cell_type": "code",
      "execution_count": 34,
      "metadata": {
        "colab": {
          "base_uri": "https://localhost:8080/",
          "height": 423
        },
        "id": "314lFO1g6Ab_",
        "outputId": "5a4a86c7-91d0-4a56-e4cd-f1bc1a7722f3"
      },
      "outputs": [
        {
          "data": {
            "text/html": [
              "<div>\n",
              "<style scoped>\n",
              "    .dataframe tbody tr th:only-of-type {\n",
              "        vertical-align: middle;\n",
              "    }\n",
              "\n",
              "    .dataframe tbody tr th {\n",
              "        vertical-align: top;\n",
              "    }\n",
              "\n",
              "    .dataframe thead th {\n",
              "        text-align: right;\n",
              "    }\n",
              "</style>\n",
              "<table border=\"1\" class=\"dataframe\">\n",
              "  <thead>\n",
              "    <tr style=\"text-align: right;\">\n",
              "      <th></th>\n",
              "      <th>Tweet</th>\n",
              "      <th>Sentiment</th>\n",
              "    </tr>\n",
              "  </thead>\n",
              "  <tbody>\n",
              "    <tr>\n",
              "      <th>1</th>\n",
              "      <td>RT USER: USER siapa yang telat ngasih tau elu?...</td>\n",
              "      <td>Positive</td>\n",
              "    </tr>\n",
              "    <tr>\n",
              "      <th>3</th>\n",
              "      <td>USER USER AKU ITU AKU\\n\\nKU TAU MATAMU SIPIT T...</td>\n",
              "      <td>Positive</td>\n",
              "    </tr>\n",
              "    <tr>\n",
              "      <th>8</th>\n",
              "      <td>Nah admin belanja satu lagi port terbaik nak m...</td>\n",
              "      <td>Positive</td>\n",
              "    </tr>\n",
              "    <tr>\n",
              "      <th>9</th>\n",
              "      <td>USER Enak lg klo smbil ngewe'</td>\n",
              "      <td>Positive</td>\n",
              "    </tr>\n",
              "    <tr>\n",
              "      <th>33</th>\n",
              "      <td>RT USER: Kelakuan homok jaman now, ngentot aja...</td>\n",
              "      <td>Positive</td>\n",
              "    </tr>\n",
              "    <tr>\n",
              "      <th>...</th>\n",
              "      <td>...</td>\n",
              "      <td>...</td>\n",
              "    </tr>\n",
              "    <tr>\n",
              "      <th>13117</th>\n",
              "      <td>USER ngeri banget itu, ati ati nek, berdoa sem...</td>\n",
              "      <td>Positive</td>\n",
              "    </tr>\n",
              "    <tr>\n",
              "      <th>13121</th>\n",
              "      <td>Impian warga Indonesia adalah menguasai hartan...</td>\n",
              "      <td>Positive</td>\n",
              "    </tr>\n",
              "    <tr>\n",
              "      <th>13149</th>\n",
              "      <td>RT USER: Foto ke 3:\\n\\nPohon tempat koloni mon...</td>\n",
              "      <td>Positive</td>\n",
              "    </tr>\n",
              "    <tr>\n",
              "      <th>13160</th>\n",
              "      <td>[NOSTALGIA DENGAN BUDAYA]; ; nosÂ·talÂ·gia n k...</td>\n",
              "      <td>Positive</td>\n",
              "    </tr>\n",
              "    <tr>\n",
              "      <th>13165</th>\n",
              "      <td>USER Kasur mana enak kunyuk'</td>\n",
              "      <td>Positive</td>\n",
              "    </tr>\n",
              "  </tbody>\n",
              "</table>\n",
              "<p>994 rows × 2 columns</p>\n",
              "</div>"
            ],
            "text/plain": [
              "                                                   Tweet Sentiment\n",
              "1      RT USER: USER siapa yang telat ngasih tau elu?...  Positive\n",
              "3      USER USER AKU ITU AKU\\n\\nKU TAU MATAMU SIPIT T...  Positive\n",
              "8      Nah admin belanja satu lagi port terbaik nak m...  Positive\n",
              "9                          USER Enak lg klo smbil ngewe'  Positive\n",
              "33     RT USER: Kelakuan homok jaman now, ngentot aja...  Positive\n",
              "...                                                  ...       ...\n",
              "13117  USER ngeri banget itu, ati ati nek, berdoa sem...  Positive\n",
              "13121  Impian warga Indonesia adalah menguasai hartan...  Positive\n",
              "13149  RT USER: Foto ke 3:\\n\\nPohon tempat koloni mon...  Positive\n",
              "13160  [NOSTALGIA DENGAN BUDAYA]; ; nosÂ·talÂ·gia n k...  Positive\n",
              "13165                       USER Kasur mana enak kunyuk'  Positive\n",
              "\n",
              "[994 rows x 2 columns]"
            ]
          },
          "execution_count": 34,
          "metadata": {},
          "output_type": "execute_result"
        }
      ],
      "source": [
        "tweet_df[tweet_df['Sentiment'] == 'Positive']"
      ]
    },
    {
      "cell_type": "code",
      "execution_count": 35,
      "metadata": {
        "colab": {
          "base_uri": "https://localhost:8080/",
          "height": 423
        },
        "id": "lIOWctq-It5r",
        "outputId": "7f953b94-e933-467f-afb6-7ba6b91594df"
      },
      "outputs": [
        {
          "data": {
            "text/html": [
              "<div>\n",
              "<style scoped>\n",
              "    .dataframe tbody tr th:only-of-type {\n",
              "        vertical-align: middle;\n",
              "    }\n",
              "\n",
              "    .dataframe tbody tr th {\n",
              "        vertical-align: top;\n",
              "    }\n",
              "\n",
              "    .dataframe thead th {\n",
              "        text-align: right;\n",
              "    }\n",
              "</style>\n",
              "<table border=\"1\" class=\"dataframe\">\n",
              "  <thead>\n",
              "    <tr style=\"text-align: right;\">\n",
              "      <th></th>\n",
              "      <th>Tweet</th>\n",
              "      <th>Sentiment</th>\n",
              "    </tr>\n",
              "  </thead>\n",
              "  <tbody>\n",
              "    <tr>\n",
              "      <th>6</th>\n",
              "      <td>deklarasi pilkada 2018 aman dan anti hoax warg...</td>\n",
              "      <td>Neutral</td>\n",
              "    </tr>\n",
              "    <tr>\n",
              "      <th>18</th>\n",
              "      <td>Jadi cowo itu harus Gantle kalo ga Gantle itu ...</td>\n",
              "      <td>Neutral</td>\n",
              "    </tr>\n",
              "    <tr>\n",
              "      <th>19</th>\n",
              "      <td>USER Slga mnr bom \\xf0\\x9f\\x98\\x82'</td>\n",
              "      <td>Neutral</td>\n",
              "    </tr>\n",
              "    <tr>\n",
              "      <th>22</th>\n",
              "      <td>USER Joko Widodo dinilai sebagai presiden terl...</td>\n",
              "      <td>Neutral</td>\n",
              "    </tr>\n",
              "    <tr>\n",
              "      <th>23</th>\n",
              "      <td>PELAJAR SMA KEC BILAH HILIR DEKLARASI ANTI HOA...</td>\n",
              "      <td>Neutral</td>\n",
              "    </tr>\n",
              "    <tr>\n",
              "      <th>...</th>\n",
              "      <td>...</td>\n",
              "      <td>...</td>\n",
              "    </tr>\n",
              "    <tr>\n",
              "      <th>13147</th>\n",
              "      <td>USER Memang nggak kasihan ya, paling pasukan n...</td>\n",
              "      <td>Neutral</td>\n",
              "    </tr>\n",
              "    <tr>\n",
              "      <th>13150</th>\n",
              "      <td>USER Tambahan : \\nArsitektur Universitas Katol...</td>\n",
              "      <td>Neutral</td>\n",
              "    </tr>\n",
              "    <tr>\n",
              "      <th>13153</th>\n",
              "      <td>wilujeng beurang.. ; Dan siapapun kita, latar ...</td>\n",
              "      <td>Neutral</td>\n",
              "    </tr>\n",
              "    <tr>\n",
              "      <th>13156</th>\n",
              "      <td>Presiden Joko Widodo (Jokowi) masuk daftar The...</td>\n",
              "      <td>Neutral</td>\n",
              "    </tr>\n",
              "    <tr>\n",
              "      <th>13159</th>\n",
              "      <td>Ada 2 buku aktivitas Angry Birds the Movie yan...</td>\n",
              "      <td>Neutral</td>\n",
              "    </tr>\n",
              "  </tbody>\n",
              "</table>\n",
              "<p>2904 rows × 2 columns</p>\n",
              "</div>"
            ],
            "text/plain": [
              "                                                   Tweet Sentiment\n",
              "6      deklarasi pilkada 2018 aman dan anti hoax warg...   Neutral\n",
              "18     Jadi cowo itu harus Gantle kalo ga Gantle itu ...   Neutral\n",
              "19                   USER Slga mnr bom \\xf0\\x9f\\x98\\x82'   Neutral\n",
              "22     USER Joko Widodo dinilai sebagai presiden terl...   Neutral\n",
              "23     PELAJAR SMA KEC BILAH HILIR DEKLARASI ANTI HOA...   Neutral\n",
              "...                                                  ...       ...\n",
              "13147  USER Memang nggak kasihan ya, paling pasukan n...   Neutral\n",
              "13150  USER Tambahan : \\nArsitektur Universitas Katol...   Neutral\n",
              "13153  wilujeng beurang.. ; Dan siapapun kita, latar ...   Neutral\n",
              "13156  Presiden Joko Widodo (Jokowi) masuk daftar The...   Neutral\n",
              "13159  Ada 2 buku aktivitas Angry Birds the Movie yan...   Neutral\n",
              "\n",
              "[2904 rows x 2 columns]"
            ]
          },
          "execution_count": 35,
          "metadata": {},
          "output_type": "execute_result"
        }
      ],
      "source": [
        "tweet_df[tweet_df['Sentiment'] == 'Neutral']"
      ]
    }
  ],
  "metadata": {
    "colab": {
      "provenance": []
    },
    "kernelspec": {
      "display_name": "Python 3",
      "name": "python3"
    },
    "language_info": {
      "codemirror_mode": {
        "name": "ipython",
        "version": 3
      },
      "file_extension": ".py",
      "mimetype": "text/x-python",
      "name": "python",
      "nbconvert_exporter": "python",
      "pygments_lexer": "ipython3",
      "version": "3.11.5"
    }
  },
  "nbformat": 4,
  "nbformat_minor": 0
}
